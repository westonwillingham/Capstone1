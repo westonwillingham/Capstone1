{
 "cells": [
  {
   "cell_type": "markdown",
   "metadata": {},
   "source": [
    "# Given that a person has done psychedelics in the past month or year, are their odds of doing cocaine any less than other people? "
   ]
  },
  {
   "cell_type": "code",
   "execution_count": 7,
   "metadata": {},
   "outputs": [
    {
     "data": {
      "text/plain": [
       "CL0    1038\n",
       "CL2     270\n",
       "CL3     258\n",
       "CL1     160\n",
       "CL4      99\n",
       "CL5      41\n",
       "CL6      19\n",
       "Name: Coke, dtype: int64"
      ]
     },
     "execution_count": 7,
     "metadata": {},
     "output_type": "execute_result"
    }
   ],
   "source": [
    "import pandas as pd \n",
    "import numpy as np\n",
    "import matplotlib.pyplot as plt \n",
    "import seaborn as sns \n",
    "import scipy.stats as stats\n",
    "sns.set_style(\"whitegrid\")\n",
    "df = pd.read_csv(\"drug_consumption_with_monthly_trip_rate.csv\")\n",
    "df[\"Coke\"].value_counts()"
   ]
  },
  {
   "cell_type": "code",
   "execution_count": 27,
   "metadata": {},
   "outputs": [
    {
     "data": {
      "text/plain": [
       "0    235\n",
       "1     12\n",
       "Name: CokeInThePastWeek?, dtype: int64"
      ]
     },
     "execution_count": 27,
     "metadata": {},
     "output_type": "execute_result"
    },
    {
     "data": {
      "image/png": "[encoded data removed]",
      "text/plain": [
       "<Figure size 432x288 with 1 Axes>"
      ]
     },
     "metadata": {},
     "output_type": "display_data"
    }
   ],
   "source": [
    "def hasDoneCokeInPastWeek(x):\n",
    "    if x == \"CL0\" or x == \"CL1\" or x == \"CL2\" or x == \"CL3\" or x == \"CL4\":\n",
    "        return 0\n",
    "    else:\n",
    "        return 1 \n",
    "df[\"CokeInThePastWeek?\"] = df[\"Coke\"].apply(hasDoneCokeInPastWeek)\n",
    "df[\"CokeInThePastWeek?\"].value_counts()\n",
    "xvals = [\"Has Not Done Coke in the Past Week\", \"Has Done Coke in the Past Week\"]\n",
    "plt.bar(xvals, df[\"CokeInThePastWeek?\"].value_counts())\n",
    "#plt.set_title(\"Have \")\n",
    "#df.head()\n",
    "#df[df[df[\"CokeInThePastWeek?\"]==1][\"Tripped?\"] ==1]\n",
    "df[df[\"Tripped?\"]==1][\"CokeInThePastWeek?\"].value_counts()"
   ]
  },
  {
   "cell_type": "code",
   "execution_count": 29,
   "metadata": {},
   "outputs": [
    {
     "data": {
      "text/plain": [
       "0    1590\n",
       "1      48\n",
       "Name: CokeInThePastWeek?, dtype: int64"
      ]
     },
     "execution_count": 29,
     "metadata": {},
     "output_type": "execute_result"
    }
   ],
   "source": [
    "df[df[\"Tripped?\"]==0][\"CokeInThePastWeek?\"].value_counts()"
   ]
  },
  {
   "cell_type": "code",
   "execution_count": 28,
   "metadata": {},
   "outputs": [
    {
     "data": {
      "text/plain": [
       "0    1825\n",
       "1      60\n",
       "Name: CokeInThePastWeek?, dtype: int64"
      ]
     },
     "execution_count": 28,
     "metadata": {},
     "output_type": "execute_result"
    }
   ],
   "source": [
    "df[\"CokeInThePastWeek?\"].value_counts()"
   ]
  },
  {
   "cell_type": "code",
   "execution_count": null,
   "metadata": {},
   "outputs": [],
   "source": []
  }
 ],
 "metadata": {
  "kernelspec": {
   "display_name": "Python 3",
   "language": "python",
   "name": "python3"
  },
  "language_info": {
   "codemirror_mode": {
    "name": "ipython",
    "version": 3
   },
   "file_extension": ".py",
   "mimetype": "text/x-python",
   "name": "python",
   "nbconvert_exporter": "python",
   "pygments_lexer": "ipython3",
   "version": "3.7.9"
  }
 },
 "nbformat": 4,
 "nbformat_minor": 2
}
