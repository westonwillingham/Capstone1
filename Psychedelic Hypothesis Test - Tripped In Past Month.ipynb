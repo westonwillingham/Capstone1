{
 "cells": [
  {
   "cell_type": "code",
   "execution_count": 71,
   "metadata": {},
   "outputs": [],
   "source": [
    "import pandas as pd \n",
    "import numpy as np\n",
    "import matplotlib.pyplot as plt \n",
    "import seaborn as sns \n",
    "import scipy.stats as stats"
   ]
  },
  {
   "cell_type": "code",
   "execution_count": 1,
   "metadata": {},
   "outputs": [
    {
     "data": {
      "text/html": [
       "<div>\n",
       "<style scoped>\n",
       "    .dataframe tbody tr th:only-of-type {\n",
       "        vertical-align: middle;\n",
       "    }\n",
       "\n",
       "    .dataframe tbody tr th {\n",
       "        vertical-align: top;\n",
       "    }\n",
       "\n",
       "    .dataframe thead th {\n",
       "        text-align: right;\n",
       "    }\n",
       "</style>\n",
       "<table border=\"1\" class=\"dataframe\">\n",
       "  <thead>\n",
       "    <tr style=\"text-align: right;\">\n",
       "      <th></th>\n",
       "      <th>Unnamed: 0</th>\n",
       "      <th>ID</th>\n",
       "      <th>Age</th>\n",
       "      <th>Gender</th>\n",
       "      <th>Education</th>\n",
       "      <th>Country</th>\n",
       "      <th>Ethnicity</th>\n",
       "      <th>Nscore</th>\n",
       "      <th>Escore</th>\n",
       "      <th>Oscore</th>\n",
       "      <th>...</th>\n",
       "      <th>Heroin</th>\n",
       "      <th>Ketamine</th>\n",
       "      <th>Legalh</th>\n",
       "      <th>LSD</th>\n",
       "      <th>Meth</th>\n",
       "      <th>Mushrooms</th>\n",
       "      <th>Nicotine</th>\n",
       "      <th>Semer</th>\n",
       "      <th>VSA</th>\n",
       "      <th>Education Level</th>\n",
       "    </tr>\n",
       "  </thead>\n",
       "  <tbody>\n",
       "    <tr>\n",
       "      <th>0</th>\n",
       "      <td>0</td>\n",
       "      <td>1</td>\n",
       "      <td>35-44</td>\n",
       "      <td>Female</td>\n",
       "      <td>-0.05921</td>\n",
       "      <td>UK</td>\n",
       "      <td>Mixed-White/Asian</td>\n",
       "      <td>0.31287</td>\n",
       "      <td>-0.57545</td>\n",
       "      <td>-0.58331</td>\n",
       "      <td>...</td>\n",
       "      <td>CL0</td>\n",
       "      <td>CL0</td>\n",
       "      <td>CL0</td>\n",
       "      <td>CL0</td>\n",
       "      <td>CL0</td>\n",
       "      <td>CL0</td>\n",
       "      <td>CL2</td>\n",
       "      <td>CL0</td>\n",
       "      <td>CL0</td>\n",
       "      <td>Professional Certificate/ Diploma</td>\n",
       "    </tr>\n",
       "    <tr>\n",
       "      <th>1</th>\n",
       "      <td>1</td>\n",
       "      <td>2</td>\n",
       "      <td>25-34</td>\n",
       "      <td>Male</td>\n",
       "      <td>1.98437</td>\n",
       "      <td>UK</td>\n",
       "      <td>White</td>\n",
       "      <td>-0.67825</td>\n",
       "      <td>1.93886</td>\n",
       "      <td>1.43533</td>\n",
       "      <td>...</td>\n",
       "      <td>CL0</td>\n",
       "      <td>CL2</td>\n",
       "      <td>CL0</td>\n",
       "      <td>CL2</td>\n",
       "      <td>CL3</td>\n",
       "      <td>CL0</td>\n",
       "      <td>CL4</td>\n",
       "      <td>CL0</td>\n",
       "      <td>CL0</td>\n",
       "      <td>Doctorate Degree</td>\n",
       "    </tr>\n",
       "    <tr>\n",
       "      <th>2</th>\n",
       "      <td>2</td>\n",
       "      <td>3</td>\n",
       "      <td>35-44</td>\n",
       "      <td>Male</td>\n",
       "      <td>-0.05921</td>\n",
       "      <td>UK</td>\n",
       "      <td>White</td>\n",
       "      <td>-0.46725</td>\n",
       "      <td>0.80523</td>\n",
       "      <td>-0.84732</td>\n",
       "      <td>...</td>\n",
       "      <td>CL0</td>\n",
       "      <td>CL0</td>\n",
       "      <td>CL0</td>\n",
       "      <td>CL0</td>\n",
       "      <td>CL0</td>\n",
       "      <td>CL1</td>\n",
       "      <td>CL0</td>\n",
       "      <td>CL0</td>\n",
       "      <td>CL0</td>\n",
       "      <td>Professional Certificate/ Diploma</td>\n",
       "    </tr>\n",
       "    <tr>\n",
       "      <th>3</th>\n",
       "      <td>3</td>\n",
       "      <td>4</td>\n",
       "      <td>18-24</td>\n",
       "      <td>Female</td>\n",
       "      <td>1.16365</td>\n",
       "      <td>UK</td>\n",
       "      <td>White</td>\n",
       "      <td>-0.14882</td>\n",
       "      <td>-0.80615</td>\n",
       "      <td>-0.01928</td>\n",
       "      <td>...</td>\n",
       "      <td>CL0</td>\n",
       "      <td>CL2</td>\n",
       "      <td>CL0</td>\n",
       "      <td>CL0</td>\n",
       "      <td>CL0</td>\n",
       "      <td>CL0</td>\n",
       "      <td>CL2</td>\n",
       "      <td>CL0</td>\n",
       "      <td>CL0</td>\n",
       "      <td>Masters Degree</td>\n",
       "    </tr>\n",
       "    <tr>\n",
       "      <th>4</th>\n",
       "      <td>4</td>\n",
       "      <td>5</td>\n",
       "      <td>35-44</td>\n",
       "      <td>Female</td>\n",
       "      <td>1.98437</td>\n",
       "      <td>UK</td>\n",
       "      <td>White</td>\n",
       "      <td>0.73545</td>\n",
       "      <td>-1.63340</td>\n",
       "      <td>-0.45174</td>\n",
       "      <td>...</td>\n",
       "      <td>CL0</td>\n",
       "      <td>CL0</td>\n",
       "      <td>CL1</td>\n",
       "      <td>CL0</td>\n",
       "      <td>CL0</td>\n",
       "      <td>CL2</td>\n",
       "      <td>CL2</td>\n",
       "      <td>CL0</td>\n",
       "      <td>CL0</td>\n",
       "      <td>Doctorate Degree</td>\n",
       "    </tr>\n",
       "  </tbody>\n",
       "</table>\n",
       "<p>5 rows × 34 columns</p>\n",
       "</div>"
      ],
      "text/plain": [
       "   Unnamed: 0  ID    Age  Gender  Education Country          Ethnicity  \\\n",
       "0           0   1  35-44  Female   -0.05921      UK  Mixed-White/Asian   \n",
       "1           1   2  25-34    Male    1.98437      UK              White   \n",
       "2           2   3  35-44    Male   -0.05921      UK              White   \n",
       "3           3   4  18-24  Female    1.16365      UK              White   \n",
       "4           4   5  35-44  Female    1.98437      UK              White   \n",
       "\n",
       "    Nscore   Escore   Oscore  ...  Heroin  Ketamine  Legalh  LSD Meth  \\\n",
       "0  0.31287 -0.57545 -0.58331  ...     CL0       CL0     CL0  CL0  CL0   \n",
       "1 -0.67825  1.93886  1.43533  ...     CL0       CL2     CL0  CL2  CL3   \n",
       "2 -0.46725  0.80523 -0.84732  ...     CL0       CL0     CL0  CL0  CL0   \n",
       "3 -0.14882 -0.80615 -0.01928  ...     CL0       CL2     CL0  CL0  CL0   \n",
       "4  0.73545 -1.63340 -0.45174  ...     CL0       CL0     CL1  CL0  CL0   \n",
       "\n",
       "  Mushrooms Nicotine Semer  VSA                    Education Level  \n",
       "0       CL0      CL2   CL0  CL0  Professional Certificate/ Diploma  \n",
       "1       CL0      CL4   CL0  CL0                   Doctorate Degree  \n",
       "2       CL1      CL0   CL0  CL0  Professional Certificate/ Diploma  \n",
       "3       CL0      CL2   CL0  CL0                     Masters Degree  \n",
       "4       CL2      CL2   CL0  CL0                   Doctorate Degree  \n",
       "\n",
       "[5 rows x 34 columns]"
      ]
     },
     "execution_count": 1,
     "metadata": {},
     "output_type": "execute_result"
    }
   ],
   "source": [
    "import pandas as pd \n",
    "import numpy as np\n",
    "import matplotlib.pyplot as plt \n",
    "import seaborn as sns \n",
    "import scipy.stats as stats\n",
    "sns.set_style(\"whitegrid\")\n",
    "df = pd.read_csv('clean_drug_consumption.csv')\n",
    "df.head()"
   ]
  },
  {
   "cell_type": "code",
   "execution_count": 2,
   "metadata": {},
   "outputs": [
    {
     "data": {
      "text/plain": [
       "CL0    982\n",
       "CL3    275\n",
       "CL2    260\n",
       "CL1    209\n",
       "CL4    115\n",
       "CL5     40\n",
       "CL6      4\n",
       "Name: Mushrooms, dtype: int64"
      ]
     },
     "execution_count": 2,
     "metadata": {},
     "output_type": "execute_result"
    }
   ],
   "source": [
    "df[\"Mushrooms\"].value_counts()"
   ]
  },
  {
   "cell_type": "code",
   "execution_count": 3,
   "metadata": {},
   "outputs": [],
   "source": [
    "def hasTrippedMushrooms(x):\n",
    "    if x == \"CL0\" or x == \"CL1\" or x == \"CL2\" or x == \"CL3\":\n",
    "        return 0\n",
    "    else:\n",
    "        return 1 \n"
   ]
  },
  {
   "cell_type": "code",
   "execution_count": 8,
   "metadata": {},
   "outputs": [
    {
     "data": {
      "text/plain": [
       "0    1726\n",
       "1     159\n",
       "Name: Tripped Shrooms?, dtype: int64"
      ]
     },
     "execution_count": 8,
     "metadata": {},
     "output_type": "execute_result"
    },
    {
     "data": {
      "image/png": "[encoded data removed]",
      "text/plain": [
       "<Figure size 432x288 with 1 Axes>"
      ]
     },
     "metadata": {
      "needs_background": "light"
     },
     "output_type": "display_data"
    }
   ],
   "source": [
    "df[\"Tripped Shrooms?\"] = df[\"Mushrooms\"].apply(hasTrippedMushrooms)\n",
    "df[\"Tripped Shrooms?\"].value_counts()\n",
    "xvals = [\"Has Not Done Mushrooms\", \"Has Done Mushrooms Recently\"]\n",
    "plt.bar(xvals, df[\"Tripped Shrooms?\"].value_counts())\n",
    "#plt.set_title(\"Have \")\n",
    "#df.head()\n",
    "df[\"Tripped Shrooms?\"].value_counts()"
   ]
  },
  {
   "cell_type": "code",
   "execution_count": 7,
   "metadata": {},
   "outputs": [
    {
     "data": {
      "text/plain": [
       "0    1719\n",
       "1     166\n",
       "Name: Tripped LSD?, dtype: int64"
      ]
     },
     "execution_count": 7,
     "metadata": {},
     "output_type": "execute_result"
    },
    {
     "data": {
      "image/png": "[encoded data removed]",
      "text/plain": [
       "<Figure size 432x288 with 1 Axes>"
      ]
     },
     "metadata": {
      "needs_background": "light"
     },
     "output_type": "display_data"
    }
   ],
   "source": [
    "def hasTrippedLSD(x):\n",
    "    if x == \"CL0\" or x == \"CL1\" or x == \"CL2\" or x == \"CL3\":\n",
    "        return 0\n",
    "    else:\n",
    "        return 1  \n",
    "\n",
    "df[\"Tripped LSD?\"] = df[\"LSD\"].apply(hasTrippedLSD)\n",
    "df[\"Tripped LSD?\"].value_counts()\n",
    "xvals = [\"Has Not Done LSD\", \"Has Done LSD Recently\"]\n",
    "\n",
    "plt.bar(xvals, df[\"Tripped LSD?\"].value_counts())\n",
    "df[\"Tripped LSD?\"].value_counts()\n",
    "#plt.set_title(\"Have \")\n",
    "#df.head()\n",
    "#"
   ]
  },
  {
   "cell_type": "markdown",
   "metadata": {},
   "source": [
    "# Insight \n",
    "More people have done mushrooms than LSD before "
   ]
  },
  {
   "cell_type": "code",
   "execution_count": 10,
   "metadata": {},
   "outputs": [
    {
     "data": {
      "image/png": "[encoded data removed]",
      "text/plain": [
       "<Figure size 432x288 with 1 Axes>"
      ]
     },
     "metadata": {},
     "output_type": "display_data"
    }
   ],
   "source": [
    "def hasTripped(x):\n",
    "    if x == \"CL0\":\n",
    "        return 0\n",
    "    else:\n",
    "        return 1 \n",
    "def isolate(x): \n",
    "    if x == 1 or x ==2: \n",
    "        return 1 \n",
    "    else: \n",
    "        return 0 \n",
    "    \n",
    "df[\"Tripped?\"] = df[\"Tripped Shrooms?\"] + df[\"Tripped LSD?\"] \n",
    "df[\"Tripped?\"] = df[\"Tripped?\"].apply(isolate)\n",
    "\n",
    "df[\"Tripped?\"].value_counts()\n",
    "xvals = [\"Has Tripped Recently\", \"Has Not Tripped Recently\"]\n",
    "\n",
    "plt.pie(df[\"Tripped?\"].value_counts(), labels = xvals, autopct='%1.1f%%');\n",
    "\n",
    "#df[\"Tripped?\"].value_counts()\n",
    "#plt.set_title(\"Have \")\n",
    "#df.head()\n",
    "#"
   ]
  },
  {
   "cell_type": "code",
   "execution_count": 11,
   "metadata": {},
   "outputs": [
    {
     "data": {
      "text/plain": [
       "0    1638\n",
       "1     169\n",
       "2      78\n",
       "Name: Tripped on how many?, dtype: int64"
      ]
     },
     "execution_count": 11,
     "metadata": {},
     "output_type": "execute_result"
    },
    {
     "data": {
      "image/png": "[encoded data removed]",
      "text/plain": [
       "<Figure size 432x288 with 1 Axes>"
      ]
     },
     "metadata": {},
     "output_type": "display_data"
    }
   ],
   "source": [
    "def hasTripped(x):\n",
    "    if x == \"CL0\":\n",
    "        return 0\n",
    "    else:\n",
    "        return 1 \n",
    "\n",
    "df[\"Tripped on how many?\"] = df[\"Tripped Shrooms?\"] + df[\"Tripped LSD?\"] \n",
    "df[\"Tripped on how many?\"].value_counts()\n",
    "xvals = [\"Has Not Done Either\", \"Has Done Both\", \"Has Done One\"]\n",
    "\n",
    "plt.pie(df[\"Tripped on how many?\"].value_counts(), labels = xvals,autopct='%1.1f%%')\n",
    "df[\"Tripped on how many?\"].value_counts()\n",
    "#plt.set_title(\"Have \")\n",
    "#df.head()\n",
    "#"
   ]
  },
  {
   "cell_type": "code",
   "execution_count": 13,
   "metadata": {},
   "outputs": [
    {
     "name": "stdout",
     "output_type": "stream",
     "text": [
      "Openness Score of People Who Have Tripped in the Past Month\n"
     ]
    },
    {
     "data": {
      "text/plain": [
       "0.6717557489878543"
      ]
     },
     "execution_count": 13,
     "metadata": {},
     "output_type": "execute_result"
    }
   ],
   "source": [
    "print(\"Openness Score of People Who Have Tripped in the Past Month\")\n",
    "df[df[\"Tripped?\"] == 1]['Oscore'].mean()"
   ]
  },
  {
   "cell_type": "code",
   "execution_count": 14,
   "metadata": {
    "scrolled": true
   },
   "outputs": [
    {
     "name": "stdout",
     "output_type": "stream",
     "text": [
      "Openness Score of People Who Have Never Tripped in the Past Month\n"
     ]
    },
    {
     "data": {
      "text/plain": [
       "-0.101911483516483"
      ]
     },
     "execution_count": 14,
     "metadata": {},
     "output_type": "execute_result"
    }
   ],
   "source": [
    "print(\"Openness Score of People Who Have Never Tripped in the Past Month\")\n",
    "df[df[\"Tripped?\"] == 0]['Oscore'].mean()"
   ]
  },
  {
   "cell_type": "code",
   "execution_count": 23,
   "metadata": {},
   "outputs": [],
   "source": [
    "mean_diff = df[df[\"Tripped?\"] == 1]['Oscore'].mean() - df[df[\"Tripped?\"] == 0]['Oscore'].mean()"
   ]
  },
  {
   "cell_type": "code",
   "execution_count": 15,
   "metadata": {},
   "outputs": [
    {
     "name": "stdout",
     "output_type": "stream",
     "text": [
      "Mean Openness Score\n"
     ]
    },
    {
     "data": {
      "text/plain": [
       "-0.0005343978779840978"
      ]
     },
     "execution_count": 15,
     "metadata": {},
     "output_type": "execute_result"
    }
   ],
   "source": [
    "print(\"Mean Openness Score\")\n",
    "df['Oscore'].mean()"
   ]
  },
  {
   "cell_type": "code",
   "execution_count": 16,
   "metadata": {
    "scrolled": true
   },
   "outputs": [
    {
     "data": {
      "text/plain": [
       "Unnamed: 0              250.477733\n",
       "ID                      251.085607\n",
       "Education                -0.360083\n",
       "Nscore                    0.016672\n",
       "Escore                    0.060208\n",
       "Oscore                    0.672290\n",
       "Ascore                   -0.130396\n",
       "Cscore                   -0.313541\n",
       "Impulsive                 0.329636\n",
       "SS                        0.584569\n",
       "Tripped Shrooms?          0.559375\n",
       "Tripped LSD?              0.584001\n",
       "Tripped?                  0.868966\n",
       "Tripped on how many?      1.143376\n",
       "dtype: float64"
      ]
     },
     "execution_count": 16,
     "metadata": {},
     "output_type": "execute_result"
    }
   ],
   "source": [
    "df[df[\"Tripped?\"] == 1][:].mean() - df[:].mean()"
   ]
  },
  {
   "cell_type": "code",
   "execution_count": null,
   "metadata": {},
   "outputs": [],
   "source": []
  },
  {
   "cell_type": "markdown",
   "metadata": {},
   "source": [
    "# Affect of Tripping \n",
    "It seems that the average openness of a psychedelic user is much higher than any other category "
   ]
  },
  {
   "cell_type": "code",
   "execution_count": 17,
   "metadata": {},
   "outputs": [
    {
     "data": {
      "text/plain": [
       "0.8283744151003579"
      ]
     },
     "execution_count": 17,
     "metadata": {},
     "output_type": "execute_result"
    }
   ],
   "source": [
    "np.std(df[df[\"Tripped?\"] == 1]['Oscore'])"
   ]
  },
  {
   "cell_type": "code",
   "execution_count": 18,
   "metadata": {},
   "outputs": [
    {
     "data": {
      "image/png": "[encoded data removed]",
      "text/plain": [
       "<Figure size 432x288 with 1 Axes>"
      ]
     },
     "metadata": {
      "needs_background": "light"
     },
     "output_type": "display_data"
    }
   ],
   "source": [
    "fig, ax = plt.subplots()\n",
    "ax = plt.hist(df[df[\"Tripped?\"] == 1]['Oscore'])"
   ]
  },
  {
   "cell_type": "code",
   "execution_count": 19,
   "metadata": {},
   "outputs": [
    {
     "data": {
      "text/plain": [
       "(array([  6.,  33., 125., 236., 322., 405., 284., 178.,  37.,  12.]),\n",
       " array([-3.27393 , -2.656376, -2.038822, -1.421268, -0.803714, -0.18616 ,\n",
       "         0.431394,  1.048948,  1.666502,  2.284056,  2.90161 ]),\n",
       " <a list of 10 Patch objects>)"
      ]
     },
     "execution_count": 19,
     "metadata": {},
     "output_type": "execute_result"
    },
    {
     "data": {
      "image/png": "[encoded data removed]",
      "text/plain": [
       "<Figure size 432x288 with 1 Axes>"
      ]
     },
     "metadata": {
      "needs_background": "light"
     },
     "output_type": "display_data"
    }
   ],
   "source": [
    "plt.hist(df[df[\"Tripped?\"] == 0]['Oscore'])"
   ]
  },
  {
   "cell_type": "markdown",
   "metadata": {},
   "source": [
    "# Psychedelic Openness Hypothesis Testing \n"
   ]
  },
  {
   "cell_type": "markdown",
   "metadata": {},
   "source": [
    "Null Hypothesis H0: that the mean openness for non-psychedelic users = the mean openness for psychedelic users \n",
    "Ha: Psych users are more open "
   ]
  },
  {
   "cell_type": "code",
   "execution_count": 20,
   "metadata": {},
   "outputs": [],
   "source": [
    "var0 = (np.var(df[df[\"Tripped?\"] == 0]['Oscore']))/len(df[df[\"Tripped?\"] == 0]['Oscore'])\n",
    "var1 = (np.var(df[df[\"Tripped?\"] == 1]['Oscore']))/len(df[df[\"Tripped?\"] == 1]['Oscore'])\n",
    "\n",
    "shared_sample_variance = var0 + var1\n",
    "#print(shared_sample_variance)\n",
    "diff_in_Oscore = stats.norm(0, np.sqrt(shared_sample_variance))\n",
    "\n",
    "\n"
   ]
  },
  {
   "cell_type": "code",
   "execution_count": null,
   "metadata": {},
   "outputs": [],
   "source": []
  },
  {
   "cell_type": "code",
   "execution_count": 24,
   "metadata": {},
   "outputs": [
    {
     "data": {
      "image/png": "[encoded data removed]",
      "text/plain": [
       "<Figure size 1152x216 with 1 Axes>"
      ]
     },
     "metadata": {
      "needs_background": "light"
     },
     "output_type": "display_data"
    }
   ],
   "source": [
    "fig, ax = plt.subplots(1, figsize=(16, 3))\n",
    "\n",
    "x = np.linspace(-0.25, 0.75, num=250)\n",
    "ax.plot(x, diff_in_Oscore.pdf(x), linewidth=3)\n",
    "ax.set_xlim(-0.25, 0.75)\n",
    "ax.axvline(mean_diff)\n",
    "\n",
    "ax.set_title(\"Distribution of Difference in Sample Frequencies Assuming $H_0$\");"
   ]
  },
  {
   "cell_type": "code",
   "execution_count": 25,
   "metadata": {},
   "outputs": [
    {
     "data": {
      "image/png": "[encoded data removed]",
      "text/plain": [
       "<Figure size 1152x216 with 1 Axes>"
      ]
     },
     "metadata": {
      "needs_background": "light"
     },
     "output_type": "display_data"
    }
   ],
   "source": [
    "𝛼 = 0.05\n",
    "x = np.linspace(-3, 3, num=2500)\n",
    "threshold = diff_in_Oscore.ppf(1-𝛼)\n",
    "\n",
    "fig, ax = plt.subplots(1, figsize=(16, 3))\n",
    "\n",
    "ax.plot(x, diff_in_Oscore.pdf(x), linewidth=3)\n",
    "ax.axvline(threshold)\n",
    "ax.set_xlim(-0.2, 0.20)\n",
    "ax.fill_between(x, 0, diff_in_Oscore.pdf(x), x>threshold, color = 'blue')\n",
    "ax.set_title(f'{100*𝛼}% of the area under the curve falls to the right of {round(threshold,3)}');"
   ]
  },
  {
   "cell_type": "code",
   "execution_count": 26,
   "metadata": {},
   "outputs": [
    {
     "data": {
      "text/plain": [
       "0.7736672325043373"
      ]
     },
     "execution_count": 26,
     "metadata": {},
     "output_type": "execute_result"
    }
   ],
   "source": [
    "mean_diff = df[df[\"Tripped?\"] == 1]['Oscore'].mean() - df[df[\"Tripped?\"] == 0]['Oscore'].mean()\n",
    "mean_diff"
   ]
  },
  {
   "cell_type": "code",
   "execution_count": 27,
   "metadata": {},
   "outputs": [
    {
     "data": {
      "text/plain": [
       "0.0"
      ]
     },
     "execution_count": 27,
     "metadata": {},
     "output_type": "execute_result"
    }
   ],
   "source": [
    "p_value = 1 - diff_in_Oscore.cdf(mean_diff)\n",
    "p_value \n",
    "#print(\"p-value for openness comparison: {:2.3f}\".format(p_value))"
   ]
  },
  {
   "cell_type": "code",
   "execution_count": 28,
   "metadata": {},
   "outputs": [
    {
     "data": {
      "text/plain": [
       "5.458997152537601e-31"
      ]
     },
     "execution_count": 28,
     "metadata": {},
     "output_type": "execute_result"
    }
   ],
   "source": [
    "tdiff_in_Oscore = stats.ttest_ind(df[df[\"Tripped?\"] == 1]['Oscore'], df[df[\"Tripped?\"] == 0]['Oscore'])\n",
    "tdiff_in_Oscore[1]"
   ]
  },
  {
   "cell_type": "code",
   "execution_count": 29,
   "metadata": {},
   "outputs": [
    {
     "data": {
      "text/plain": [
       "5.005599850878441e-09"
      ]
     },
     "execution_count": 29,
     "metadata": {},
     "output_type": "execute_result"
    }
   ],
   "source": [
    "tdiff_in_Oscore = stats.ttest_ind(df[df[\"Tripped?\"] == 1]['Impulsive'], df[df[\"Tripped?\"] == 0]['Impulsive'])\n",
    "tdiff_in_Oscore[1]"
   ]
  },
  {
   "cell_type": "code",
   "execution_count": 30,
   "metadata": {},
   "outputs": [
    {
     "data": {
      "text/plain": [
       "3.4289266692559324e-25"
      ]
     },
     "execution_count": 30,
     "metadata": {},
     "output_type": "execute_result"
    }
   ],
   "source": [
    "tdiff_in_Oscore = stats.ttest_ind(df[df[\"Tripped?\"] == 1]['SS'], df[df[\"Tripped?\"] == 0]['SS'])\n",
    "tdiff_in_Oscore[1]"
   ]
  },
  {
   "cell_type": "code",
   "execution_count": 31,
   "metadata": {},
   "outputs": [
    {
     "data": {
      "text/plain": [
       "0.027481504120490073"
      ]
     },
     "execution_count": 31,
     "metadata": {},
     "output_type": "execute_result"
    }
   ],
   "source": [
    "tdiff_in_Oscore = stats.ttest_ind(df[df[\"Tripped?\"] == 1]['Ascore'], df[df[\"Tripped?\"] == 0]['Ascore'])\n",
    "tdiff_in_Oscore[1]"
   ]
  },
  {
   "cell_type": "code",
   "execution_count": 32,
   "metadata": {},
   "outputs": [
    {
     "data": {
      "text/plain": [
       "1.0543835776106146e-07"
      ]
     },
     "execution_count": 32,
     "metadata": {},
     "output_type": "execute_result"
    }
   ],
   "source": [
    "tdiff_in_Oscore = stats.ttest_ind(df[df[\"Tripped?\"] == 1]['Cscore'], df[df[\"Tripped?\"] == 0]['Cscore'])\n",
    "tdiff_in_Oscore[1]"
   ]
  },
  {
   "cell_type": "code",
   "execution_count": 33,
   "metadata": {},
   "outputs": [
    {
     "data": {
      "text/plain": [
       "0.7783157313051474"
      ]
     },
     "execution_count": 33,
     "metadata": {},
     "output_type": "execute_result"
    }
   ],
   "source": [
    "tdiff_in_Oscore = stats.ttest_ind(df[df[\"Tripped?\"] == 1]['Nscore'], df[df[\"Tripped?\"] == 0]['Nscore'])\n",
    "tdiff_in_Oscore[1]"
   ]
  },
  {
   "cell_type": "code",
   "execution_count": 34,
   "metadata": {},
   "outputs": [
    {
     "data": {
      "text/plain": [
       "0.30895897099541286"
      ]
     },
     "execution_count": 34,
     "metadata": {},
     "output_type": "execute_result"
    }
   ],
   "source": [
    "tdiff_in_Oscore = stats.ttest_ind(df[df[\"Tripped?\"] == 1]['Escore'], df[df[\"Tripped?\"] == 0]['Escore'])\n",
    "tdiff_in_Oscore[1]"
   ]
  },
  {
   "cell_type": "code",
   "execution_count": null,
   "metadata": {},
   "outputs": [],
   "source": []
  },
  {
   "cell_type": "code",
   "execution_count": null,
   "metadata": {},
   "outputs": [],
   "source": []
  },
  {
   "cell_type": "code",
   "execution_count": 35,
   "metadata": {},
   "outputs": [
    {
     "data": {
      "text/plain": [
       "Unnamed: 0              250.477733\n",
       "ID                      251.085607\n",
       "Education                -0.360083\n",
       "Nscore                    0.016672\n",
       "Escore                    0.060208\n",
       "Oscore                    0.672290\n",
       "Ascore                   -0.130396\n",
       "Cscore                   -0.313541\n",
       "Impulsive                 0.329636\n",
       "SS                        0.584569\n",
       "Tripped Shrooms?          0.559375\n",
       "Tripped LSD?              0.584001\n",
       "Tripped?                  0.868966\n",
       "Tripped on how many?      1.143376\n",
       "dtype: float64"
      ]
     },
     "execution_count": 35,
     "metadata": {},
     "output_type": "execute_result"
    }
   ],
   "source": [
    "df[df[\"Tripped?\"] == 1][:].mean() - df[:].mean()"
   ]
  },
  {
   "cell_type": "code",
   "execution_count": 37,
   "metadata": {},
   "outputs": [
    {
     "name": "stdout",
     "output_type": "stream",
     "text": [
      "<class 'pandas.core.frame.DataFrame'>\n",
      "RangeIndex: 1885 entries, 0 to 1884\n",
      "Data columns (total 38 columns):\n",
      "Unnamed: 0              1885 non-null int64\n",
      "ID                      1885 non-null int64\n",
      "Age                     1885 non-null object\n",
      "Gender                  1885 non-null object\n",
      "Education               1885 non-null float64\n",
      "Country                 1885 non-null object\n",
      "Ethnicity               1885 non-null object\n",
      "Nscore                  1885 non-null float64\n",
      "Escore                  1885 non-null float64\n",
      "Oscore                  1885 non-null float64\n",
      "Ascore                  1885 non-null float64\n",
      "Cscore                  1885 non-null float64\n",
      "Impulsive               1885 non-null float64\n",
      "SS                      1885 non-null float64\n",
      "Alcohol                 1885 non-null object\n",
      "Amphet                  1885 non-null object\n",
      "Amyl                    1885 non-null object\n",
      "Benzos                  1885 non-null object\n",
      "Caff                    1885 non-null object\n",
      "Cannabis                1885 non-null object\n",
      "Choc                    1885 non-null object\n",
      "Coke                    1885 non-null object\n",
      "Crack                   1885 non-null object\n",
      "Ecstasy                 1885 non-null object\n",
      "Heroin                  1885 non-null object\n",
      "Ketamine                1885 non-null object\n",
      "Legalh                  1885 non-null object\n",
      "LSD                     1885 non-null object\n",
      "Meth                    1885 non-null object\n",
      "Mushrooms               1885 non-null object\n",
      "Nicotine                1885 non-null object\n",
      "Semer                   1885 non-null object\n",
      "VSA                     1885 non-null object\n",
      "Education Level         1885 non-null object\n",
      "Tripped Shrooms?        1885 non-null int64\n",
      "Tripped LSD?            1885 non-null int64\n",
      "Tripped?                1885 non-null int64\n",
      "Tripped on how many?    1885 non-null int64\n",
      "dtypes: float64(8), int64(6), object(24)\n",
      "memory usage: 559.7+ KB\n"
     ]
    }
   ],
   "source": [
    "df.info()"
   ]
  },
  {
   "cell_type": "code",
   "execution_count": 38,
   "metadata": {},
   "outputs": [],
   "source": [
    "df.to_csv('drug_consumption_with_monthly_trip_rate.csv')\n"
   ]
  },
  {
   "cell_type": "code",
   "execution_count": 41,
   "metadata": {},
   "outputs": [
    {
     "data": {
      "text/plain": [
       "0    1638\n",
       "1     247\n",
       "Name: Tripped?, dtype: int64"
      ]
     },
     "execution_count": 41,
     "metadata": {},
     "output_type": "execute_result"
    }
   ],
   "source": [
    "df[\"Tripped?\"].value_counts()"
   ]
  },
  {
   "cell_type": "markdown",
   "metadata": {},
   "source": [
    "# Tests to see if tripping in the past month changes your odds of drinking in the past day"
   ]
  },
  {
   "cell_type": "code",
   "execution_count": 42,
   "metadata": {},
   "outputs": [
    {
     "name": "stdout",
     "output_type": "stream",
     "text": [
      "0.27530364372469635\n",
      "0    179\n",
      "1     68\n",
      "Name: AlcToday?, dtype: int64\n"
     ]
    }
   ],
   "source": [
    "def hasDoneAlcInPastDay(x):\n",
    "    if x == \"CL0\" or x == \"CL1\" or x == \"CL2\" or x == \"CL3\" or x == \"CL4\" or x == \"CL5\":\n",
    "        return 0\n",
    "    else:\n",
    "        return 1 \n",
    "df[\"AlcToday?\"] = df[\"Alcohol\"].apply(hasDoneAlcInPastDay)\n",
    "df[\"AlcToday?\"].value_counts()\n",
    "#xvals = [\"Has Not Done Meth in the Past Week\", \"Has Done Meth in the Past Week\"]\n",
    "#plt.bar(xvals, df[\"MethInThePastWeek?\"].value_counts())\n",
    "#plt.set_title(\"Have \")\n",
    "#df.head()\n",
    "#df[df[df[\"CokeInThePastWeek?\"]==1][\"Tripped?\"] ==1]\n",
    "counts = df[df[\"Tripped?\"]==1][\"AlcToday?\"].value_counts()\n",
    "print(counts[1] / (counts[0]+counts[1]))\n",
    "\n",
    "print(counts)"
   ]
  },
  {
   "cell_type": "code",
   "execution_count": 43,
   "metadata": {},
   "outputs": [
    {
     "name": "stdout",
     "output_type": "stream",
     "text": [
      "0.2667887667887668\n",
      "0    1201\n",
      "1     437\n",
      "Name: AlcToday?, dtype: int64\n"
     ]
    }
   ],
   "source": [
    "counts = df[df[\"Tripped?\"]==0][\"AlcToday?\"].value_counts()\n",
    "print(counts[1] / (counts[0]+counts[1]))\n",
    "\n",
    "print(counts)"
   ]
  }
 ],
 "metadata": {
  "kernelspec": {
   "display_name": "Python 3",
   "language": "python",
   "name": "python3"
  },
  "language_info": {
   "codemirror_mode": {
    "name": "ipython",
    "version": 3
   },
   "file_extension": ".py",
   "mimetype": "text/x-python",
   "name": "python",
   "nbconvert_exporter": "python",
   "pygments_lexer": "ipython3",
   "version": "3.7.9"
  }
 },
 "nbformat": 4,
 "nbformat_minor": 2
}
