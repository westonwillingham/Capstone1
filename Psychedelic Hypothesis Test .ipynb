{
 "cells": [
  {
   "cell_type": "code",
   "execution_count": 71,
   "metadata": {},
   "outputs": [],
   "source": [
    "import pandas as pd \n",
    "import numpy as np\n",
    "import matplotlib.pyplot as plt \n",
    "import seaborn as sns \n",
    "import scipy.stats as stats"
   ]
  },
  {
   "cell_type": "code",
   "execution_count": 2,
   "metadata": {},
   "outputs": [
    {
     "data": {
      "text/html": [
       "<div>\n",
       "<style scoped>\n",
       "    .dataframe tbody tr th:only-of-type {\n",
       "        vertical-align: middle;\n",
       "    }\n",
       "\n",
       "    .dataframe tbody tr th {\n",
       "        vertical-align: top;\n",
       "    }\n",
       "\n",
       "    .dataframe thead th {\n",
       "        text-align: right;\n",
       "    }\n",
       "</style>\n",
       "<table border=\"1\" class=\"dataframe\">\n",
       "  <thead>\n",
       "    <tr style=\"text-align: right;\">\n",
       "      <th></th>\n",
       "      <th>ID</th>\n",
       "      <th>Age</th>\n",
       "      <th>Gender</th>\n",
       "      <th>Education</th>\n",
       "      <th>Country</th>\n",
       "      <th>Ethnicity</th>\n",
       "      <th>Nscore</th>\n",
       "      <th>Escore</th>\n",
       "      <th>Oscore</th>\n",
       "      <th>Ascore</th>\n",
       "      <th>...</th>\n",
       "      <th>Ecstasy</th>\n",
       "      <th>Heroin</th>\n",
       "      <th>Ketamine</th>\n",
       "      <th>Legalh</th>\n",
       "      <th>LSD</th>\n",
       "      <th>Meth</th>\n",
       "      <th>Mushrooms</th>\n",
       "      <th>Nicotine</th>\n",
       "      <th>Semer</th>\n",
       "      <th>VSA</th>\n",
       "    </tr>\n",
       "  </thead>\n",
       "  <tbody>\n",
       "    <tr>\n",
       "      <th>0</th>\n",
       "      <td>1</td>\n",
       "      <td>0.49788</td>\n",
       "      <td>0.48246</td>\n",
       "      <td>-0.05921</td>\n",
       "      <td>0.96082</td>\n",
       "      <td>0.12600</td>\n",
       "      <td>0.31287</td>\n",
       "      <td>-0.57545</td>\n",
       "      <td>-0.58331</td>\n",
       "      <td>-0.91699</td>\n",
       "      <td>...</td>\n",
       "      <td>CL0</td>\n",
       "      <td>CL0</td>\n",
       "      <td>CL0</td>\n",
       "      <td>CL0</td>\n",
       "      <td>CL0</td>\n",
       "      <td>CL0</td>\n",
       "      <td>CL0</td>\n",
       "      <td>CL2</td>\n",
       "      <td>CL0</td>\n",
       "      <td>CL0</td>\n",
       "    </tr>\n",
       "    <tr>\n",
       "      <th>1</th>\n",
       "      <td>2</td>\n",
       "      <td>-0.07854</td>\n",
       "      <td>-0.48246</td>\n",
       "      <td>1.98437</td>\n",
       "      <td>0.96082</td>\n",
       "      <td>-0.31685</td>\n",
       "      <td>-0.67825</td>\n",
       "      <td>1.93886</td>\n",
       "      <td>1.43533</td>\n",
       "      <td>0.76096</td>\n",
       "      <td>...</td>\n",
       "      <td>CL4</td>\n",
       "      <td>CL0</td>\n",
       "      <td>CL2</td>\n",
       "      <td>CL0</td>\n",
       "      <td>CL2</td>\n",
       "      <td>CL3</td>\n",
       "      <td>CL0</td>\n",
       "      <td>CL4</td>\n",
       "      <td>CL0</td>\n",
       "      <td>CL0</td>\n",
       "    </tr>\n",
       "    <tr>\n",
       "      <th>2</th>\n",
       "      <td>3</td>\n",
       "      <td>0.49788</td>\n",
       "      <td>-0.48246</td>\n",
       "      <td>-0.05921</td>\n",
       "      <td>0.96082</td>\n",
       "      <td>-0.31685</td>\n",
       "      <td>-0.46725</td>\n",
       "      <td>0.80523</td>\n",
       "      <td>-0.84732</td>\n",
       "      <td>-1.62090</td>\n",
       "      <td>...</td>\n",
       "      <td>CL0</td>\n",
       "      <td>CL0</td>\n",
       "      <td>CL0</td>\n",
       "      <td>CL0</td>\n",
       "      <td>CL0</td>\n",
       "      <td>CL0</td>\n",
       "      <td>CL1</td>\n",
       "      <td>CL0</td>\n",
       "      <td>CL0</td>\n",
       "      <td>CL0</td>\n",
       "    </tr>\n",
       "    <tr>\n",
       "      <th>3</th>\n",
       "      <td>4</td>\n",
       "      <td>-0.95197</td>\n",
       "      <td>0.48246</td>\n",
       "      <td>1.16365</td>\n",
       "      <td>0.96082</td>\n",
       "      <td>-0.31685</td>\n",
       "      <td>-0.14882</td>\n",
       "      <td>-0.80615</td>\n",
       "      <td>-0.01928</td>\n",
       "      <td>0.59042</td>\n",
       "      <td>...</td>\n",
       "      <td>CL0</td>\n",
       "      <td>CL0</td>\n",
       "      <td>CL2</td>\n",
       "      <td>CL0</td>\n",
       "      <td>CL0</td>\n",
       "      <td>CL0</td>\n",
       "      <td>CL0</td>\n",
       "      <td>CL2</td>\n",
       "      <td>CL0</td>\n",
       "      <td>CL0</td>\n",
       "    </tr>\n",
       "    <tr>\n",
       "      <th>4</th>\n",
       "      <td>5</td>\n",
       "      <td>0.49788</td>\n",
       "      <td>0.48246</td>\n",
       "      <td>1.98437</td>\n",
       "      <td>0.96082</td>\n",
       "      <td>-0.31685</td>\n",
       "      <td>0.73545</td>\n",
       "      <td>-1.63340</td>\n",
       "      <td>-0.45174</td>\n",
       "      <td>-0.30172</td>\n",
       "      <td>...</td>\n",
       "      <td>CL1</td>\n",
       "      <td>CL0</td>\n",
       "      <td>CL0</td>\n",
       "      <td>CL1</td>\n",
       "      <td>CL0</td>\n",
       "      <td>CL0</td>\n",
       "      <td>CL2</td>\n",
       "      <td>CL2</td>\n",
       "      <td>CL0</td>\n",
       "      <td>CL0</td>\n",
       "    </tr>\n",
       "  </tbody>\n",
       "</table>\n",
       "<p>5 rows × 32 columns</p>\n",
       "</div>"
      ],
      "text/plain": [
       "   ID      Age   Gender  Education  Country  Ethnicity   Nscore   Escore  \\\n",
       "0   1  0.49788  0.48246   -0.05921  0.96082    0.12600  0.31287 -0.57545   \n",
       "1   2 -0.07854 -0.48246    1.98437  0.96082   -0.31685 -0.67825  1.93886   \n",
       "2   3  0.49788 -0.48246   -0.05921  0.96082   -0.31685 -0.46725  0.80523   \n",
       "3   4 -0.95197  0.48246    1.16365  0.96082   -0.31685 -0.14882 -0.80615   \n",
       "4   5  0.49788  0.48246    1.98437  0.96082   -0.31685  0.73545 -1.63340   \n",
       "\n",
       "    Oscore   Ascore  ...  Ecstasy  Heroin  Ketamine Legalh  LSD Meth  \\\n",
       "0 -0.58331 -0.91699  ...      CL0     CL0       CL0    CL0  CL0  CL0   \n",
       "1  1.43533  0.76096  ...      CL4     CL0       CL2    CL0  CL2  CL3   \n",
       "2 -0.84732 -1.62090  ...      CL0     CL0       CL0    CL0  CL0  CL0   \n",
       "3 -0.01928  0.59042  ...      CL0     CL0       CL2    CL0  CL0  CL0   \n",
       "4 -0.45174 -0.30172  ...      CL1     CL0       CL0    CL1  CL0  CL0   \n",
       "\n",
       "  Mushrooms Nicotine Semer  VSA  \n",
       "0       CL0      CL2   CL0  CL0  \n",
       "1       CL0      CL4   CL0  CL0  \n",
       "2       CL1      CL0   CL0  CL0  \n",
       "3       CL0      CL2   CL0  CL0  \n",
       "4       CL2      CL2   CL0  CL0  \n",
       "\n",
       "[5 rows x 32 columns]"
      ]
     },
     "execution_count": 2,
     "metadata": {},
     "output_type": "execute_result"
    }
   ],
   "source": [
    "import pandas as pd \n",
    "import numpy as np\n",
    "import matplotlib.pyplot as plt \n",
    "import seaborn as sns \n",
    "import scipy.stats as stats\n",
    "sns.set_style(\"whitegrid\")\n",
    "#df = pd.read_csv('drug_consumption.csv')\n",
    "#df.head()"
   ]
  },
  {
   "cell_type": "code",
   "execution_count": 26,
   "metadata": {},
   "outputs": [],
   "source": [
    "def hasTrippedMushrooms(x):\n",
    "    if x == \"CL0\":\n",
    "        return 0\n",
    "    else:\n",
    "        return 1 \n"
   ]
  },
  {
   "cell_type": "code",
   "execution_count": 29,
   "metadata": {},
   "outputs": [
    {
     "data": {
      "text/plain": [
       "<BarContainer object of 2 artists>"
      ]
     },
     "execution_count": 29,
     "metadata": {},
     "output_type": "execute_result"
    },
    {
     "data": {
      "image/png": "[encoded data removed]",
      "text/plain": [
       "<Figure size 432x288 with 1 Axes>"
      ]
     },
     "metadata": {},
     "output_type": "display_data"
    }
   ],
   "source": [
    "df[\"Tripped Shrooms?\"] = df[\"Mushrooms\"].apply(hasTrippedMushrooms)\n",
    "df[\"Tripped Shrooms?\"].value_counts()\n",
    "xvals = [\"Has Not Done Mushrooms\", \"Has Done Mushrooms\"]\n",
    "plt.bar(xvals, df[\"Tripped Shrooms?\"].value_counts())\n",
    "#plt.set_title(\"Have \")\n",
    "#df.head()\n",
    "#"
   ]
  },
  {
   "cell_type": "code",
   "execution_count": 33,
   "metadata": {},
   "outputs": [
    {
     "data": {
      "text/plain": [
       "0    1069\n",
       "1     816\n",
       "Name: Tripped LSD?, dtype: int64"
      ]
     },
     "execution_count": 33,
     "metadata": {},
     "output_type": "execute_result"
    },
    {
     "data": {
      "image/png": "[encoded data removed]",
      "text/plain": [
       "<Figure size 432x288 with 1 Axes>"
      ]
     },
     "metadata": {},
     "output_type": "display_data"
    }
   ],
   "source": [
    "def hasTrippedLSD(x):\n",
    "    if x == \"CL0\":\n",
    "        return 0\n",
    "    else:\n",
    "        return 1 \n",
    "\n",
    "df[\"Tripped LSD?\"] = df[\"LSD\"].apply(hasTrippedLSD)\n",
    "df[\"Tripped LSD?\"].value_counts()\n",
    "xvals = [\"Has Not Done LSD\", \"Has Done LSD\"]\n",
    "\n",
    "plt.bar(xvals, df[\"Tripped LSD?\"].value_counts())\n",
    "df[\"Tripped LSD?\"].value_counts()\n",
    "#plt.set_title(\"Have \")\n",
    "#df.head()\n",
    "#"
   ]
  },
  {
   "cell_type": "markdown",
   "metadata": {},
   "source": [
    "# Insight \n",
    "More people have done mushrooms than LSD before "
   ]
  },
  {
   "cell_type": "code",
   "execution_count": 162,
   "metadata": {},
   "outputs": [
    {
     "data": {
      "image/png": "[encoded data removed]",
      "text/plain": [
       "<Figure size 432x288 with 1 Axes>"
      ]
     },
     "metadata": {},
     "output_type": "display_data"
    }
   ],
   "source": [
    "def hasTripped(x):\n",
    "    if x == \"CL0\":\n",
    "        return 0\n",
    "    else:\n",
    "        return 1 \n",
    "def isolate(x): \n",
    "    if x == 1 or x ==2: \n",
    "        return 1 \n",
    "    else: \n",
    "        return 0 \n",
    "    \n",
    "df[\"Tripped?\"] = df[\"Tripped Shrooms?\"] + df[\"Tripped LSD?\"] \n",
    "df[\"Tripped?\"] = df[\"Tripped?\"].apply(isolate)\n",
    "\n",
    "df[\"Tripped?\"].value_counts()\n",
    "xvals = [\"Has Tripped\", \"Has Not Tripped\"]\n",
    "\n",
    "plt.pie(df[\"Tripped?\"].value_counts(), labels = xvals, autopct='%1.1f%%');\n",
    "\n",
    "#df[\"Tripped?\"].value_counts()\n",
    "#plt.set_title(\"Have \")\n",
    "#df.head()\n",
    "#"
   ]
  },
  {
   "cell_type": "code",
   "execution_count": 164,
   "metadata": {},
   "outputs": [
    {
     "data": {
      "text/plain": [
       "0    860\n",
       "2    694\n",
       "1    331\n",
       "Name: Tripped on how many?, dtype: int64"
      ]
     },
     "execution_count": 164,
     "metadata": {},
     "output_type": "execute_result"
    },
    {
     "data": {
      "image/png": "[encoded data removed]",
      "text/plain": [
       "<Figure size 432x288 with 1 Axes>"
      ]
     },
     "metadata": {},
     "output_type": "display_data"
    }
   ],
   "source": [
    "def hasTripped(x):\n",
    "    if x == \"CL0\":\n",
    "        return 0\n",
    "    else:\n",
    "        return 1 \n",
    "\n",
    "df[\"Tripped on how many?\"] = df[\"Tripped Shrooms?\"] + df[\"Tripped LSD?\"] \n",
    "df[\"Tripped on how many?\"].value_counts()\n",
    "xvals = [\"Has Not Done Either\", \"Has Done Both\", \"Has Done One\"]\n",
    "\n",
    "plt.pie(df[\"Tripped on how many?\"].value_counts(), labels = xvals,autopct='%1.1f%%')\n",
    "df[\"Tripped on how many?\"].value_counts()\n",
    "#plt.set_title(\"Have \")\n",
    "#df.head()\n",
    "#"
   ]
  },
  {
   "cell_type": "code",
   "execution_count": 60,
   "metadata": {},
   "outputs": [
    {
     "name": "stdout",
     "output_type": "stream",
     "text": [
      "Openness Score of People Who Have Tripped At Least Once\n"
     ]
    },
    {
     "data": {
      "text/plain": [
       "0.32966835121951293"
      ]
     },
     "execution_count": 60,
     "metadata": {},
     "output_type": "execute_result"
    }
   ],
   "source": [
    "print(\"Openness Score of People Who Have Tripped At Least Once\")\n",
    "df[df[\"Tripped?\"] == 1]['Oscore'].mean()"
   ]
  },
  {
   "cell_type": "code",
   "execution_count": 61,
   "metadata": {},
   "outputs": [
    {
     "name": "stdout",
     "output_type": "stream",
     "text": [
      "Openness Score of People Who Have Never Tripped\n"
     ]
    },
    {
     "data": {
      "text/plain": [
       "-0.3940899999999987"
      ]
     },
     "execution_count": 61,
     "metadata": {},
     "output_type": "execute_result"
    }
   ],
   "source": [
    "print(\"Openness Score of People Who Have Never Tripped\")\n",
    "df[df[\"Tripped?\"] == 0]['Oscore'].mean()"
   ]
  },
  {
   "cell_type": "code",
   "execution_count": 62,
   "metadata": {},
   "outputs": [
    {
     "name": "stdout",
     "output_type": "stream",
     "text": [
      "Mean Openness Score\n"
     ]
    },
    {
     "data": {
      "text/plain": [
       "-0.0005343978779841072"
      ]
     },
     "execution_count": 62,
     "metadata": {},
     "output_type": "execute_result"
    }
   ],
   "source": [
    "print(\"Mean Openness Score\")\n",
    "df['Oscore'].mean()"
   ]
  },
  {
   "cell_type": "code",
   "execution_count": 59,
   "metadata": {
    "scrolled": true
   },
   "outputs": [
    {
     "data": {
      "text/plain": [
       "ID                      67.960650\n",
       "Age                     -0.131762\n",
       "Gender                  -0.116947\n",
       "Education               -0.127260\n",
       "Country                 -0.294313\n",
       "Ethnicity                0.018305\n",
       "Nscore                   0.064918\n",
       "Escore                  -0.025451\n",
       "Oscore                   0.330203\n",
       "Ascore                  -0.127552\n",
       "Cscore                  -0.194383\n",
       "Impulsive                0.248598\n",
       "SS                       0.336065\n",
       "Tripped?                 0.456233\n",
       "Tripped Shrooms?         0.401931\n",
       "Tripped LSD?             0.363206\n",
       "Tripped on how many?     0.765137\n",
       "dtype: float64"
      ]
     },
     "execution_count": 59,
     "metadata": {},
     "output_type": "execute_result"
    }
   ],
   "source": [
    "df[df[\"Tripped?\"] == 1][:].mean() - df[:].mean()"
   ]
  },
  {
   "cell_type": "code",
   "execution_count": null,
   "metadata": {},
   "outputs": [],
   "source": []
  },
  {
   "cell_type": "markdown",
   "metadata": {},
   "source": [
    "# Affect of Tripping \n",
    "It seems that the average openness of a psychedelic user is much higher than any other category "
   ]
  },
  {
   "cell_type": "code",
   "execution_count": 73,
   "metadata": {},
   "outputs": [
    {
     "data": {
      "text/plain": [
       "0.940645544042255"
      ]
     },
     "execution_count": 73,
     "metadata": {},
     "output_type": "execute_result"
    }
   ],
   "source": [
    "np.std(df[df[\"Tripped?\"] == 1]['Oscore'])"
   ]
  },
  {
   "cell_type": "code",
   "execution_count": 80,
   "metadata": {},
   "outputs": [
    {
     "data": {
      "image/png": "[encoded data removed]",
      "text/plain": [
       "<Figure size 432x288 with 1 Axes>"
      ]
     },
     "metadata": {},
     "output_type": "display_data"
    }
   ],
   "source": [
    "fig, ax = plt.subplots()\n",
    "ax = plt.hist(df[df[\"Tripped?\"] == 1]['Oscore'])"
   ]
  },
  {
   "cell_type": "code",
   "execution_count": 76,
   "metadata": {},
   "outputs": [
    {
     "data": {
      "text/plain": [
       "(array([  5.,  16.,  56., 129., 231., 210., 136.,  47.,  20.,  10.]),\n",
       " array([-3.27393 , -2.701633, -2.129336, -1.557039, -0.984742, -0.412445,\n",
       "         0.159852,  0.732149,  1.304446,  1.876743,  2.44904 ]),\n",
       " <a list of 10 Patch objects>)"
      ]
     },
     "execution_count": 76,
     "metadata": {},
     "output_type": "execute_result"
    },
    {
     "data": {
      "image/png": "[encoded data removed]",
      "text/plain": [
       "<Figure size 432x288 with 1 Axes>"
      ]
     },
     "metadata": {},
     "output_type": "display_data"
    }
   ],
   "source": [
    "plt.hist(df[df[\"Tripped?\"] == 0]['Oscore'])"
   ]
  },
  {
   "cell_type": "markdown",
   "metadata": {},
   "source": [
    "# Psychedelic Openness Hypothesis Testing \n"
   ]
  },
  {
   "cell_type": "markdown",
   "metadata": {},
   "source": [
    "Null Hypothesis H0: that the mean openness for non-psychedelic users = the mean openness for psychedelic users \n",
    "Ha: Psych users are more open "
   ]
  },
  {
   "cell_type": "code",
   "execution_count": 140,
   "metadata": {},
   "outputs": [],
   "source": [
    "var0 = (np.var(df[df[\"Tripped?\"] == 0]['Oscore']))/len(df[df[\"Tripped?\"] == 0]['Oscore'])\n",
    "var1 = (np.var(df[df[\"Tripped?\"] == 1]['Oscore']))/len(df[df[\"Tripped?\"] == 1]['Oscore'])\n",
    "\n",
    "shared_sample_variance = var0 + var1\n",
    "#print(shared_sample_variance)\n",
    "diff_in_Oscore = stats.norm(0, np.sqrt(shared_sample_variance))\n",
    "\n",
    "\n"
   ]
  },
  {
   "cell_type": "code",
   "execution_count": null,
   "metadata": {},
   "outputs": [],
   "source": []
  },
  {
   "cell_type": "code",
   "execution_count": 173,
   "metadata": {},
   "outputs": [
    {
     "data": {
      "image/png": "[encoded data removed]",
      "text/plain": [
       "<Figure size 1152x216 with 1 Axes>"
      ]
     },
     "metadata": {},
     "output_type": "display_data"
    }
   ],
   "source": [
    "fig, ax = plt.subplots(1, figsize=(16, 3))\n",
    "\n",
    "x = np.linspace(-0.25, 0.75, num=250)\n",
    "ax.plot(x, diff_in_Oscore.pdf(x), linewidth=3)\n",
    "ax.set_xlim(-0.25, 0.75)\n",
    "ax.axvline(mean_diff)\n",
    "\n",
    "ax.set_title(\"Distribution of Difference in Sample Frequencies Assuming $H_0$\");"
   ]
  },
  {
   "cell_type": "code",
   "execution_count": 150,
   "metadata": {},
   "outputs": [
    {
     "data": {
      "image/png": "[encoded data removed]",
      "text/plain": [
       "<Figure size 1152x216 with 1 Axes>"
      ]
     },
     "metadata": {},
     "output_type": "display_data"
    }
   ],
   "source": [
    "𝛼 = 0.05\n",
    "x = np.linspace(-3, 3, num=2500)\n",
    "threshold = diff_in_Oscore.ppf(1-𝛼)\n",
    "\n",
    "fig, ax = plt.subplots(1, figsize=(16, 3))\n",
    "\n",
    "ax.plot(x, diff_in_Oscore.pdf(x), linewidth=3)\n",
    "ax.axvline(threshold)\n",
    "ax.set_xlim(-0.2, 0.20)\n",
    "ax.fill_between(x, 0, diff_in_Oscore.pdf(x), x>threshold, color = 'blue')\n",
    "ax.set_title(f'{100*𝛼}% of the area under the curve falls to the right of {round(threshold,3)}');"
   ]
  },
  {
   "cell_type": "code",
   "execution_count": 136,
   "metadata": {},
   "outputs": [
    {
     "data": {
      "text/plain": [
       "0.7237583512195116"
      ]
     },
     "execution_count": 136,
     "metadata": {},
     "output_type": "execute_result"
    }
   ],
   "source": [
    "mean_diff = df[df[\"Tripped?\"] == 1]['Oscore'].mean() - df[df[\"Tripped?\"] == 0]['Oscore'].mean()\n",
    "mean_diff"
   ]
  },
  {
   "cell_type": "code",
   "execution_count": 141,
   "metadata": {},
   "outputs": [
    {
     "data": {
      "text/plain": [
       "0.0"
      ]
     },
     "execution_count": 141,
     "metadata": {},
     "output_type": "execute_result"
    }
   ],
   "source": [
    "p_value = 1 - diff_in_Oscore.cdf(mean_diff)\n",
    "p_value \n",
    "#print(\"p-value for openness comparison: {:2.3f}\".format(p_value))"
   ]
  },
  {
   "cell_type": "code",
   "execution_count": 144,
   "metadata": {},
   "outputs": [
    {
     "data": {
      "text/plain": [
       "1.9383924863049046e-59"
      ]
     },
     "execution_count": 144,
     "metadata": {},
     "output_type": "execute_result"
    }
   ],
   "source": [
    "tdiff_in_Oscore = stats.ttest_ind(df[df[\"Tripped?\"] == 1]['Oscore'], df[df[\"Tripped?\"] == 0]['Oscore'])\n",
    "tdiff_in_Oscore[1]"
   ]
  },
  {
   "cell_type": "code",
   "execution_count": 145,
   "metadata": {},
   "outputs": [
    {
     "data": {
      "text/plain": [
       "2.056089514730359e-36"
      ]
     },
     "execution_count": 145,
     "metadata": {},
     "output_type": "execute_result"
    }
   ],
   "source": [
    "tdiff_in_Oscore = stats.ttest_ind(df[df[\"Tripped?\"] == 1]['Impulsive'], df[df[\"Tripped?\"] == 0]['Impulsive'])\n",
    "tdiff_in_Oscore[1]"
   ]
  },
  {
   "cell_type": "code",
   "execution_count": 146,
   "metadata": {},
   "outputs": [
    {
     "data": {
      "text/plain": [
       "4.175824191309417e-66"
      ]
     },
     "execution_count": 146,
     "metadata": {},
     "output_type": "execute_result"
    }
   ],
   "source": [
    "tdiff_in_Oscore = stats.ttest_ind(df[df[\"Tripped?\"] == 1]['SS'], df[df[\"Tripped?\"] == 0]['SS'])\n",
    "tdiff_in_Oscore[1]"
   ]
  },
  {
   "cell_type": "code",
   "execution_count": 147,
   "metadata": {},
   "outputs": [
    {
     "data": {
      "text/plain": [
       "1.1376640083766759e-09"
      ]
     },
     "execution_count": 147,
     "metadata": {},
     "output_type": "execute_result"
    }
   ],
   "source": [
    "tdiff_in_Oscore = stats.ttest_ind(df[df[\"Tripped?\"] == 1]['Ascore'], df[df[\"Tripped?\"] == 0]['Ascore'])\n",
    "tdiff_in_Oscore[1]"
   ]
  },
  {
   "cell_type": "code",
   "execution_count": 148,
   "metadata": {},
   "outputs": [
    {
     "data": {
      "text/plain": [
       "9.643005652650709e-21"
      ]
     },
     "execution_count": 148,
     "metadata": {},
     "output_type": "execute_result"
    }
   ],
   "source": [
    "tdiff_in_Oscore = stats.ttest_ind(df[df[\"Tripped?\"] == 1]['Cscore'], df[df[\"Tripped?\"] == 0]['Cscore'])\n",
    "tdiff_in_Oscore[1]"
   ]
  },
  {
   "cell_type": "code",
   "execution_count": 174,
   "metadata": {},
   "outputs": [
    {
     "data": {
      "text/plain": [
       "0.0020318443361281636"
      ]
     },
     "execution_count": 174,
     "metadata": {},
     "output_type": "execute_result"
    }
   ],
   "source": [
    "tdiff_in_Oscore = stats.ttest_ind(df[df[\"Tripped?\"] == 1]['Nscore'], df[df[\"Tripped?\"] == 0]['Nscore'])\n",
    "tdiff_in_Oscore[1]"
   ]
  },
  {
   "cell_type": "code",
   "execution_count": 176,
   "metadata": {},
   "outputs": [
    {
     "data": {
      "text/plain": [
       "0.22658702433064598"
      ]
     },
     "execution_count": 176,
     "metadata": {},
     "output_type": "execute_result"
    }
   ],
   "source": [
    "tdiff_in_Oscore = stats.ttest_ind(df[df[\"Tripped?\"] == 1]['Escore'], df[df[\"Tripped?\"] == 0]['Escore'])\n",
    "tdiff_in_Oscore[1]"
   ]
  },
  {
   "cell_type": "code",
   "execution_count": null,
   "metadata": {},
   "outputs": [],
   "source": []
  },
  {
   "cell_type": "code",
   "execution_count": null,
   "metadata": {},
   "outputs": [],
   "source": []
  },
  {
   "cell_type": "code",
   "execution_count": 175,
   "metadata": {},
   "outputs": [
    {
     "data": {
      "text/plain": [
       "ID                      67.960650\n",
       "Age                     -0.131762\n",
       "Gender                  -0.116947\n",
       "Education               -0.127260\n",
       "Country                 -0.294313\n",
       "Ethnicity                0.018305\n",
       "Nscore                   0.064918\n",
       "Escore                  -0.025451\n",
       "Oscore                   0.330203\n",
       "Ascore                  -0.127552\n",
       "Cscore                  -0.194383\n",
       "Impulsive                0.248598\n",
       "SS                       0.336065\n",
       "Tripped?                 0.456233\n",
       "Tripped Shrooms?         0.401931\n",
       "Tripped LSD?             0.363206\n",
       "Tripped on how many?     0.765137\n",
       "dtype: float64"
      ]
     },
     "execution_count": 175,
     "metadata": {},
     "output_type": "execute_result"
    }
   ],
   "source": [
    "df[df[\"Tripped?\"] == 1][:].mean() - df[:].mean()"
   ]
  }
 ],
 "metadata": {
  "kernelspec": {
   "display_name": "Python 3",
   "language": "python",
   "name": "python3"
  },
  "language_info": {
   "codemirror_mode": {
    "name": "ipython",
    "version": 3
   },
   "file_extension": ".py",
   "mimetype": "text/x-python",
   "name": "python",
   "nbconvert_exporter": "python",
   "pygments_lexer": "ipython3",
   "version": "3.7.9"
  }
 },
 "nbformat": 4,
 "nbformat_minor": 2
}
