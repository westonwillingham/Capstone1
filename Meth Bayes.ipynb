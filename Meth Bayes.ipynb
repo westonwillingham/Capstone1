{
 "cells": [
  {
   "cell_type": "markdown",
   "metadata": {},
   "source": [
    "# Given that a person has done psychedelics in the past month or year, are their odds of doing cocaine any less than other people? "
   ]
  },
  {
   "cell_type": "code",
   "execution_count": 1,
   "metadata": {},
   "outputs": [
    {
     "data": {
      "text/plain": [
       "CL0    1429\n",
       "CL3     149\n",
       "CL2      97\n",
       "CL6      73\n",
       "CL4      50\n",
       "CL5      48\n",
       "CL1      39\n",
       "Name: Meth, dtype: int64"
      ]
     },
     "execution_count": 1,
     "metadata": {},
     "output_type": "execute_result"
    }
   ],
   "source": [
    "import pandas as pd \n",
    "import numpy as np\n",
    "import matplotlib.pyplot as plt \n",
    "import seaborn as sns \n",
    "import scipy.stats as stats\n",
    "sns.set_style(\"whitegrid\")\n",
    "df = pd.read_csv(\"drug_consumption_with_monthly_trip_rate.csv\")\n",
    "df[\"Meth\"].value_counts()"
   ]
  },
  {
   "cell_type": "code",
   "execution_count": 7,
   "metadata": {},
   "outputs": [
    {
     "data": {
      "text/plain": [
       "0.08502024291497975"
      ]
     },
     "execution_count": 7,
     "metadata": {},
     "output_type": "execute_result"
    },
    {
     "data": {
      "image/png": "[encoded data removed]",
      "text/plain": [
       "<Figure size 432x288 with 1 Axes>"
      ]
     },
     "metadata": {
      "needs_background": "light"
     },
     "output_type": "display_data"
    }
   ],
   "source": [
    "def hasDoneMethInPastWeek(x):\n",
    "    if x == \"CL0\" or x == \"CL1\" or x == \"CL2\" or x == \"CL3\" or x == \"CL4\":\n",
    "        return 0\n",
    "    else:\n",
    "        return 1 \n",
    "df[\"MethInThePastWeek?\"] = df[\"Meth\"].apply(hasDoneMethInPastWeek)\n",
    "df[\"MethInThePastWeek?\"].value_counts()\n",
    "xvals = [\"Has Not Done Meth in the Past Week\", \"Has Done Meth in the Past Week\"]\n",
    "plt.bar(xvals, df[\"MethInThePastWeek?\"].value_counts())\n",
    "#plt.set_title(\"Have \")\n",
    "#df.head()\n",
    "#df[df[df[\"CokeInThePastWeek?\"]==1][\"Tripped?\"] ==1]\n",
    "counts = df[df[\"Tripped?\"]==1][\"MethInThePastWeek?\"].value_counts()\n",
    "counts[1] / (counts[0]+counts[1])"
   ]
  },
  {
   "cell_type": "code",
   "execution_count": 8,
   "metadata": {},
   "outputs": [
    {
     "data": {
      "text/plain": [
       "0.06105006105006105"
      ]
     },
     "execution_count": 8,
     "metadata": {},
     "output_type": "execute_result"
    }
   ],
   "source": [
    "counts = df[df[\"Tripped?\"]==0][\"MethInThePastWeek?\"].value_counts()\n",
    "counts[1] / (counts[0]+counts[1])"
   ]
  },
  {
   "cell_type": "code",
   "execution_count": 10,
   "metadata": {},
   "outputs": [
    {
     "data": {
      "text/plain": [
       "0.06419098143236074"
      ]
     },
     "execution_count": 10,
     "metadata": {},
     "output_type": "execute_result"
    }
   ],
   "source": [
    "counts = df[\"MethInThePastWeek?\"].value_counts()\n",
    "counts[1] / (counts[0]+counts[1])"
   ]
  },
  {
   "cell_type": "code",
   "execution_count": null,
   "metadata": {},
   "outputs": [],
   "source": []
  }
 ],
 "metadata": {
  "kernelspec": {
   "display_name": "Python 3",
   "language": "python",
   "name": "python3"
  },
  "language_info": {
   "codemirror_mode": {
    "name": "ipython",
    "version": 3
   },
   "file_extension": ".py",
   "mimetype": "text/x-python",
   "name": "python",
   "nbconvert_exporter": "python",
   "pygments_lexer": "ipython3",
   "version": "3.7.9"
  }
 },
 "nbformat": 4,
 "nbformat_minor": 2
}
